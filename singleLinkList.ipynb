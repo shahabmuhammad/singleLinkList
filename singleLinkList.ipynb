{
 "cells": [
  {
   "cell_type": "markdown",
   "id": "seasonal-south",
   "metadata": {},
   "source": [
    "## Single LinkList Implementation "
   ]
  },
  {
   "cell_type": "code",
   "execution_count": 1,
   "id": "associate-thomson",
   "metadata": {},
   "outputs": [],
   "source": [
    "class Node:\n",
    "    def __init__(self,data):\n",
    "        self.data=data\n",
    "        self.next=None"
   ]
  },
  {
   "cell_type": "code",
   "execution_count": 126,
   "id": "marked-latitude",
   "metadata": {},
   "outputs": [],
   "source": [
    "class LinkList:\n",
    "    def __init__(self):\n",
    "        self.head=None\n",
    "    def inStart(self, data):\n",
    "        if self.head==None:\n",
    "            self.head=Node(data)\n",
    "        else:\n",
    "            temp=Node(data)\n",
    "            temp.next=self.head\n",
    "            self.head=temp\n",
    "    def show(self):\n",
    "        if self.head==None:\n",
    "            print(\"List is Empty\")\n",
    "        else:\n",
    "            temp=self.head\n",
    "            while temp!=None:\n",
    "                print(temp.data)\n",
    "                temp=temp.next\n",
    "    def inLast(self,data):\n",
    "        if self.head==None:\n",
    "            self.head=Node(data)\n",
    "        else:\n",
    "            temp=self.head.next\n",
    "            while temp.next!=None:\n",
    "                temp=temp.next\n",
    "            temp.next=Node(data)\n",
    "    def Delete(self):\n",
    "        self.head=None\n",
    "    def insert(self,data,position):\n",
    "        if self.head==None and position==0:\n",
    "            self.head=Node(data)\n",
    "        else:\n",
    "            temp=self.head.next\n",
    "            i=0\n",
    "            while temp.next!=None and i < position-1:\n",
    "                temp=temp.next\n",
    "                i+=1\n",
    "            if temp.next==None:\n",
    "                temp.next=Node(data)\n",
    "            else:\n",
    "                temp2=temp.next\n",
    "                temp.next=Node(data)\n",
    "                temp.next.next=temp2\n",
    "            "
   ]
  },
  {
   "cell_type": "code",
   "execution_count": 127,
   "id": "elementary-extra",
   "metadata": {},
   "outputs": [],
   "source": [
    "list=LinkList()\n",
    "list.inStart(\"Mon\")"
   ]
  },
  {
   "cell_type": "code",
   "execution_count": 128,
   "id": "personalized-sunset",
   "metadata": {},
   "outputs": [],
   "source": [
    "list.inStart(\"Tue\")"
   ]
  },
  {
   "cell_type": "code",
   "execution_count": 129,
   "id": "drawn-oxygen",
   "metadata": {},
   "outputs": [
    {
     "name": "stdout",
     "output_type": "stream",
     "text": [
      "Tue\n",
      "Mon\n"
     ]
    }
   ],
   "source": [
    "list.show()"
   ]
  },
  {
   "cell_type": "code",
   "execution_count": 130,
   "id": "worst-judge",
   "metadata": {},
   "outputs": [],
   "source": [
    "list.inLast(\"sunday\")"
   ]
  },
  {
   "cell_type": "code",
   "execution_count": 131,
   "id": "authentic-custom",
   "metadata": {},
   "outputs": [
    {
     "name": "stdout",
     "output_type": "stream",
     "text": [
      "Tue\n",
      "Mon\n",
      "sunday\n"
     ]
    }
   ],
   "source": [
    "list.show()"
   ]
  },
  {
   "cell_type": "code",
   "execution_count": 132,
   "id": "crude-expression",
   "metadata": {},
   "outputs": [],
   "source": [
    "list.inStart(\"wed\")"
   ]
  },
  {
   "cell_type": "code",
   "execution_count": 133,
   "id": "crazy-thailand",
   "metadata": {},
   "outputs": [
    {
     "name": "stdout",
     "output_type": "stream",
     "text": [
      "wed\n",
      "Tue\n",
      "Mon\n",
      "sunday\n"
     ]
    }
   ],
   "source": [
    "list.show()"
   ]
  },
  {
   "cell_type": "code",
   "execution_count": 134,
   "id": "developed-michael",
   "metadata": {},
   "outputs": [],
   "source": [
    "list.insert(\"Fri\",2)"
   ]
  },
  {
   "cell_type": "code",
   "execution_count": 94,
   "id": "lonely-grace",
   "metadata": {},
   "outputs": [],
   "source": [
    "list.Delete()"
   ]
  },
  {
   "cell_type": "code",
   "execution_count": 135,
   "id": "heated-carter",
   "metadata": {},
   "outputs": [
    {
     "name": "stdout",
     "output_type": "stream",
     "text": [
      "wed\n",
      "Tue\n",
      "Mon\n",
      "Fri\n",
      "sunday\n"
     ]
    }
   ],
   "source": [
    "list.show()"
   ]
  },
  {
   "cell_type": "code",
   "execution_count": 136,
   "id": "indirect-helmet",
   "metadata": {},
   "outputs": [],
   "source": [
    "list.insert(\"jun\",10)"
   ]
  },
  {
   "cell_type": "code",
   "execution_count": 137,
   "id": "handed-bailey",
   "metadata": {},
   "outputs": [
    {
     "name": "stdout",
     "output_type": "stream",
     "text": [
      "wed\n",
      "Tue\n",
      "Mon\n",
      "Fri\n",
      "sunday\n",
      "jun\n"
     ]
    }
   ],
   "source": [
    "list.show()"
   ]
  },
  {
   "cell_type": "code",
   "execution_count": null,
   "id": "spanish-campus",
   "metadata": {},
   "outputs": [],
   "source": []
  }
 ],
 "metadata": {
  "kernelspec": {
   "display_name": "Python 3",
   "language": "python",
   "name": "python3"
  },
  "language_info": {
   "codemirror_mode": {
    "name": "ipython",
    "version": 3
   },
   "file_extension": ".py",
   "mimetype": "text/x-python",
   "name": "python",
   "nbconvert_exporter": "python",
   "pygments_lexer": "ipython3",
   "version": "3.9.2"
  }
 },
 "nbformat": 4,
 "nbformat_minor": 5
}
